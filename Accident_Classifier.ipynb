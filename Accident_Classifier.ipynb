{
  "nbformat": 4,
  "nbformat_minor": 0,
  "metadata": {
    "colab": {
      "name": "Accident Classifier.ipynb",
      "provenance": [],
      "collapsed_sections": []
    },
    "kernelspec": {
      "name": "python3",
      "display_name": "Python 3"
    },
    "accelerator": "GPU"
  },
  "cells": [
    {
      "cell_type": "code",
      "metadata": {
        "id": "-qw6p6xWb-30"
      },
      "source": [
        "!pip install livelossplot"
      ],
      "execution_count": null,
      "outputs": []
    },
    {
      "cell_type": "code",
      "metadata": {
        "id": "js7nQOI2Yesn"
      },
      "source": [
        "from keras.models import Sequential, Model\n",
        "from tensorflow.keras.optimizers import Adam\n",
        "from tensorflow.keras.preprocessing.image import ImageDataGenerator\n",
        "import tensorflow as tf\n",
        "from keras.callbacks import ReduceLROnPlateau, EarlyStopping\n",
        "import numpy as np\n",
        "from keras.layers import *\n",
        "from livelossplot import PlotLossesKerasTF\n",
        "from tensorflow.keras.applications.resnet50 import ResNet50"
      ],
      "execution_count": 2,
      "outputs": []
    },
    {
      "cell_type": "code",
      "metadata": {
        "id": "2AOOnygeXqjn"
      },
      "source": [
        "from google.colab import drive\n",
        "drive.mount('/content/gdrive')\n",
        "!ln -s /content/gdrive/My\\ Drive/ /mydrive\n",
        "!unzip /mydrive/traffic1.zip"
      ],
      "execution_count": null,
      "outputs": []
    },
    {
      "cell_type": "code",
      "metadata": {
        "id": "k7lJf6AAYNUN"
      },
      "source": [
        "training_datagen = ImageDataGenerator(\n",
        "      rescale = 1./255,\n",
        "\t    )\n",
        "\n",
        "validation_datagen = ImageDataGenerator(rescale = 1./255)\n",
        "\n",
        "train_generator = training_datagen.flow_from_directory(\n",
        "\t'traffic/train',\n",
        "\ttarget_size=(224,224),\n",
        "\tclass_mode='categorical',\n",
        "\tbatch_size = 64\n",
        ")\n",
        "\n",
        "validation_generator = validation_datagen.flow_from_directory(\n",
        "\t'traffic/test',\n",
        "\ttarget_size=(224,224),\n",
        "\tclass_mode='categorical',\n",
        "\tbatch_size = 64\n",
        ")"
      ],
      "execution_count": null,
      "outputs": []
    },
    {
      "cell_type": "code",
      "metadata": {
        "id": "_eKX4i5KnTav"
      },
      "source": [
        "train_generator.class_indices"
      ],
      "execution_count": null,
      "outputs": []
    },
    {
      "cell_type": "code",
      "metadata": {
        "id": "uiViEhuccE4H"
      },
      "source": [
        "early_stop = EarlyStopping('val_loss', patience=10)\n",
        "reduce_lr = ReduceLROnPlateau('val_loss', factor=0.1,patience=7, verbose=1)\n",
        "callbacks = [PlotLossesKerasTF(), early_stop, reduce_lr]"
      ],
      "execution_count": 7,
      "outputs": []
    },
    {
      "cell_type": "code",
      "metadata": {
        "colab": {
          "base_uri": "https://localhost:8080/"
        },
        "id": "w6vt5E_AYlYL",
        "outputId": "d4914fa2-3a9c-4651-96a0-6b3ee22dc724"
      },
      "source": [
        "model2 = ResNet50(weights='imagenet', include_top=False, input_shape=(224,224,3))\n",
        "model2.trainable = False\n",
        "x = model2.output\n",
        "x = GlobalAveragePooling2D()(x)\n",
        "# x = Flatten()(x)\n",
        "# x = Dense(512, activation='relu')(x)\n",
        "x = Dense(256, activation='relu')(x)\n",
        "predictions = Dense(4, activation='softmax')(x)\n",
        "resnet50 = Model(inputs=model2.input, outputs=predictions)"
      ],
      "execution_count": 8,
      "outputs": [
        {
          "output_type": "stream",
          "text": [
            "Downloading data from https://storage.googleapis.com/tensorflow/keras-applications/resnet/resnet50_weights_tf_dim_ordering_tf_kernels_notop.h5\n",
            "94773248/94765736 [==============================] - 1s 0us/step\n"
          ],
          "name": "stdout"
        }
      ]
    },
    {
      "cell_type": "code",
      "metadata": {
        "id": "mEFNleKvbbLr"
      },
      "source": [
        "resnet50.compile(optimizer=Adam(lr=1e-3),loss='mse',metrics=['accuracy'])"
      ],
      "execution_count": 9,
      "outputs": []
    },
    {
      "cell_type": "code",
      "metadata": {
        "id": "larDDpSrcUfH"
      },
      "source": [
        "history_resnet50 = resnet50.fit(train_generator, epochs = 60,shuffle = True, validation_data= validation_generator,callbacks=callbacks)"
      ],
      "execution_count": null,
      "outputs": []
    },
    {
      "cell_type": "code",
      "metadata": {
        "id": "MqGtfgH4gL2X"
      },
      "source": [
        "resnet50.save(\"resnet50.h5\")"
      ],
      "execution_count": 14,
      "outputs": []
    }
  ]
}